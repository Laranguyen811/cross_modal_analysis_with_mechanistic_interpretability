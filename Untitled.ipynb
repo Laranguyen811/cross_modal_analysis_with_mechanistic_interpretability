{
 "cells": [
  {
   "cell_type": "code",
   "execution_count": 1,
   "id": "26fe7be9",
   "metadata": {},
   "outputs": [],
   "source": [
    "from vit_prisma.sae.config import VisionModelSAERunnerConfig\n",
    "from vit_prisma.sae.train_sae import VisionSAETrainer"
   ]
  },
  {
   "cell_type": "code",
   "execution_count": 2,
   "id": "e2be3f68",
   "metadata": {},
   "outputs": [
    {
     "name": "stdout",
     "output_type": "stream",
     "text": [
      "n_tokens_per_buffer (millions): 0.032\n",
      "Lower bound: n_contexts_per_buffer (millions): 0.00064\n",
      "Total training steps: 15869\n",
      "Total training images: 1300000\n",
      "Total wandb updates: 158\n",
      "Expansion factor: 16\n",
      "n_tokens_per_feature_sampling_window (millions): 204.8\n",
      "n_tokens_per_dead_feature_window (millions): 1024.0\n",
      "Using Ghost Grads.\n",
      "We will reset the sparsity calculation 15 times.\n",
      "Number tokens in sparsity calculation window: 4.10e+06\n",
      "Gradient clipping with max_norm=1.0\n",
      "Using SAE initialization method: encoder_transpose_decoder\n",
      "Config created\n",
      "Configuration:\n",
      "  model_class_name: HookedViT\n",
      "  model_name: open-clip:laion/CLIP-ViT-B-32-DataComp.XL-s13B-b90k\n",
      "  hook_point_layer: 0\n",
      "  hook_point_head_index: None\n",
      "  context_size: 50\n",
      "  use_cached_activations: False\n",
      "  cached_activations_path: activations/_network_scratch_s_sonia.joseph_datasets_kaggle_datasets/wkcn_TinyCLIP-ViT-40M-32-Text-19M-LAION400M/blocks.9.hook_mlp_out\n",
      "  d_in: 768\n",
      "  activation_fn_str: relu\n",
      "  activation_fn_kwargs: {}\n",
      "  max_grad_norm: 1.0\n",
      "  initialization_method: independent\n",
      "  normalize_activations: null\n",
      "  n_batches_in_buffer: 4\n",
      "  store_batch_size: 256\n",
      "  num_epochs: 1\n",
      "  total_training_images: 1300000\n",
      "  total_training_tokens: 65000000\n",
      "  image_size: 224\n",
      "  device: cuda\n",
      "  seed: 42\n",
      "  dtype: float32\n",
      "  verbose: False\n",
      "  b_dec_init_method: geometric_median\n",
      "  expansion_factor: 16\n",
      "  from_pretrained_path: None\n",
      "  d_sae: 1048\n",
      "  l1_coefficient: 8e-05\n",
      "  lp_norm: 1\n",
      "  lr: 0.0001\n",
      "  lr_scheduler_name: cosineannealingwarmup\n",
      "  lr_warm_up_steps: 500\n",
      "  train_batch_size: 4096\n",
      "  dataset_name: imagenet1k\n",
      "  dataset_path: /workspace/\n",
      "  dataset_train_path: /workspace/ILSVRC/Data/CLS-LOC/train\n",
      "  dataset_val_path: /workspace/ILSVRC/Data/CLS-LOC/val\n",
      "  use_ghost_grads: True\n",
      "  feature_sampling_window: 1000\n",
      "  dead_feature_window: 5000\n",
      "  dead_feature_threshold: 1e-08\n",
      "  log_to_wandb: True\n",
      "  wandb_project: open_clip_vit_b_32_layer_0_None\n",
      "  wandb_entity: None\n",
      "  wandb_log_frequency: 100\n",
      "  n_checkpoints: 10\n",
      "  checkpoint_path: /workspace/checkpoints\n"
     ]
    }
   ],
   "source": [
    "cfg = VisionModelSAERunnerConfig()\n",
    "print(\"Config created\")\n",
    "\n",
    "# need to adjust learning rate and L1\n",
    "# lr = 0.0001\n",
    "# l1_coefficient = 0.00008\n",
    "cfg.lr = 0.0001\n",
    "cfg.l1_coefficient = 0.00008\n",
    "\n",
    "\n",
    "# to pick hook point, use cfg.hook_point_head_index\n",
    "cfg.hook_point_layer = 0\n",
    "cfg.hook_point = \"blocks.0.hook_resid_pre\"\n",
    "\n",
    "# You can modify the config hyperparameters however you wish, for example:\n",
    "cfg.expansion_factor = 16\n",
    "cfg.d_sae = 1048\n",
    "cfg.initialization_method = \"independent\"\n",
    "cfg.normalize_activations = \"null\"\n",
    "\n",
    "cfg.device = \"cuda\"\n",
    "cfg.model_name = \"open-clip:laion/CLIP-ViT-B-32-DataComp.XL-s13B-b90k\"\n",
    "cfg.dataset_path = \"/workspace/\"\n",
    "cfg.dataset_train_path = \"/workspace/ILSVRC/Data/CLS-LOC/train\"\n",
    "cfg.dataset_val_path = \"/workspace/ILSVRC/Data/CLS-LOC/val\"\n",
    "cfg.checkpoint_path =\"/workspace/checkpoints\"\n",
    "cfg.wandb_project = f\"open_clip_vit_b_32_layer_{cfg.hook_point_layer}_{cfg.hook_point_head_index}\"\n",
    "\n",
    "cfg.train_batch_size = 4096 # tweak store_batch_size instead\n",
    "cfg.n_batches_in_buffer = 4\n",
    "cfg.store_batch_size = 256 #cfg.train_batch_size\n",
    "cfg.d_in = 768\n",
    "cfg.pretty_print()"
   ]
  },
  {
   "cell_type": "code",
   "execution_count": 3,
   "id": "b901ee97",
   "metadata": {},
   "outputs": [
    {
     "name": "stdout",
     "output_type": "stream",
     "text": [
      "Official model name open-clip:laion/CLIP-ViT-B-32-DataComp.XL-s13B-b90k\n",
      "Converting OpenCLIP weights\n",
      "visual projection shape torch.Size([768, 512])\n",
      "Setting center_writing_weights to False for OpenCLIP\n",
      "Setting fold_ln to False for OpenCLIP\n",
      "Loaded pretrained model open-clip:laion/CLIP-ViT-B-32-DataComp.XL-s13B-b90k into HookedTransformer\n",
      "get_activation_fn received: activation_fn=relu, kwargs={}\n",
      "loaded dataloaders\n"
     ]
    }
   ],
   "source": [
    "trainer = VisionSAETrainer(cfg)"
   ]
  },
  {
   "cell_type": "code",
   "execution_count": 4,
   "id": "f6255f6b",
   "metadata": {},
   "outputs": [
    {
     "name": "stdout",
     "output_type": "stream",
     "text": [
      "open-clip:laion-CLIP-ViT-B-32-DataComp.XL-s13B-b90k-expansion-16-layer-0\n",
      "1c20c944-open-clip:laion-CLIP-ViT-B-32-DataComp.XL-s13B-b90k-expansion-16-layer-0\n",
      "blocks.0.hook_resid_pre\n",
      "<class 'str'>\n"
     ]
    }
   ],
   "source": [
    "print(cfg.wandb_project)\n",
    "print(cfg.run_name)\n",
    "print(cfg.hook_point)\n",
    "print(type(cfg.hook_point))"
   ]
  },
  {
   "cell_type": "code",
   "execution_count": 5,
   "id": "5809eb72",
   "metadata": {},
   "outputs": [
    {
     "name": "stderr",
     "output_type": "stream",
     "text": [
      "\u001b[34m\u001b[1mwandb\u001b[0m: Using wandb-core as the SDK backend. Please refer to https://wandb.me/wandb-core for more information.\n",
      "\u001b[34m\u001b[1mwandb\u001b[0m: Currently logged in as: \u001b[33mekg15\u001b[0m (\u001b[33mekg15_\u001b[0m). Use \u001b[1m`wandb login --relogin`\u001b[0m to force relogin\n"
     ]
    },
    {
     "data": {
      "text/html": [
       "Tracking run with wandb version 0.18.3"
      ],
      "text/plain": [
       "<IPython.core.display.HTML object>"
      ]
     },
     "metadata": {},
     "output_type": "display_data"
    },
    {
     "data": {
      "text/html": [
       "Run data is saved locally in <code>/workspace/ViT-Prisma/wandb/run-20241009_000935-gcuw6pk8</code>"
      ],
      "text/plain": [
       "<IPython.core.display.HTML object>"
      ]
     },
     "metadata": {},
     "output_type": "display_data"
    },
    {
     "data": {
      "text/html": [
       "Syncing run <strong><a href='https://wandb.ai/ekg15_/open-clip_laion-CLIP-ViT-B-32-DataComp.XL-s13B-b90k-expansion-16-layer-0/runs/gcuw6pk8' target=\"_blank\">1c20c944-open-clip_laion-CLIP-ViT-B-32-DataComp.XL-s13B-b90k-expansion-16-layer-0</a></strong> to <a href='https://wandb.ai/ekg15_/open-clip_laion-CLIP-ViT-B-32-DataComp.XL-s13B-b90k-expansion-16-layer-0' target=\"_blank\">Weights & Biases</a> (<a href='https://wandb.me/run' target=\"_blank\">docs</a>)<br/>"
      ],
      "text/plain": [
       "<IPython.core.display.HTML object>"
      ]
     },
     "metadata": {},
     "output_type": "display_data"
    },
    {
     "data": {
      "text/html": [
       " View project at <a href='https://wandb.ai/ekg15_/open-clip_laion-CLIP-ViT-B-32-DataComp.XL-s13B-b90k-expansion-16-layer-0' target=\"_blank\">https://wandb.ai/ekg15_/open-clip_laion-CLIP-ViT-B-32-DataComp.XL-s13B-b90k-expansion-16-layer-0</a>"
      ],
      "text/plain": [
       "<IPython.core.display.HTML object>"
      ]
     },
     "metadata": {},
     "output_type": "display_data"
    },
    {
     "data": {
      "text/html": [
       " View run at <a href='https://wandb.ai/ekg15_/open-clip_laion-CLIP-ViT-B-32-DataComp.XL-s13B-b90k-expansion-16-layer-0/runs/gcuw6pk8' target=\"_blank\">https://wandb.ai/ekg15_/open-clip_laion-CLIP-ViT-B-32-DataComp.XL-s13B-b90k-expansion-16-layer-0/runs/gcuw6pk8</a>"
      ],
      "text/plain": [
       "<IPython.core.display.HTML object>"
      ]
     },
     "metadata": {},
     "output_type": "display_data"
    },
    {
     "name": "stderr",
     "output_type": "stream",
     "text": [
      "Objective value: 240424.0781:   2%|█                                                                     | 3/200 [00:00<00:01, 149.72it/s]\n",
      "/workspace/ViT-Prisma/src/vit_prisma/sae/sae.py:253: UserWarning: To copy construct from a tensor, it is recommended to use sourceTensor.clone().detach() or sourceTensor.clone().detach().requires_grad_(True), rather than torch.tensor(sourceTensor).\n",
      "  out = torch.tensor(origin, dtype=self.dtype, device=self.device)\n",
      "Training SAE:   0%|                                                                                          | 0/65000000 [00:00<?, ?it/s]/usr/local/lib/python3.10/dist-packages/torch/optim/lr_scheduler.py:136: UserWarning: Detected call of `lr_scheduler.step()` before `optimizer.step()`. In PyTorch 1.1.0 and later, you should call them in the opposite order: `optimizer.step()` before `lr_scheduler.step()`.  Failure to do this will result in PyTorch skipping the first value of the learning rate schedule. See more details at https://pytorch.org/docs/stable/optim.html#how-to-adjust-learning-rate\n",
      "  warnings.warn(\"Detected call of `lr_scheduler.step()` before `optimizer.step()`. \"\n",
      "Training SAE: Loss: 0.0074, MSE Loss: 0.0045, L1 Loss: 0.0029, L0: 183.8701:  10%|█         | 6508544/65000000 [01:23<09:57, 97900.28it/s]"
     ]
    },
    {
     "name": "stdout",
     "output_type": "stream",
     "text": [
      "Saved model to /workspace/checkpoints/1c20c944-open-clip:laion-CLIP-ViT-B-32-DataComp.XL-s13B-b90k-expansion-16-layer-0/n_images_130007.pt\n"
     ]
    },
    {
     "name": "stderr",
     "output_type": "stream",
     "text": [
      "Training SAE: Loss: 0.0063, MSE Loss: 0.0035, L1 Loss: 0.0028, L0: 173.6445:  20%|█▊       | 13017088/65000000 [02:35<09:49, 88233.17it/s]"
     ]
    },
    {
     "name": "stdout",
     "output_type": "stream",
     "text": [
      "Saved model to /workspace/checkpoints/1c20c944-open-clip:laion-CLIP-ViT-B-32-DataComp.XL-s13B-b90k-expansion-16-layer-0/n_images_260014.pt\n"
     ]
    },
    {
     "name": "stderr",
     "output_type": "stream",
     "text": [
      "Training SAE: Loss: 0.0059, MSE Loss: 0.0031, L1 Loss: 0.0027, L0: 150.4326:  30%|██▋      | 19525632/65000000 [03:49<09:43, 77974.86it/s]"
     ]
    },
    {
     "name": "stdout",
     "output_type": "stream",
     "text": [
      "Saved model to /workspace/checkpoints/1c20c944-open-clip:laion-CLIP-ViT-B-32-DataComp.XL-s13B-b90k-expansion-16-layer-0/n_images_390021.pt\n"
     ]
    },
    {
     "name": "stderr",
     "output_type": "stream",
     "text": [
      "Training SAE: Loss: 0.0054, MSE Loss: 0.0027, L1 Loss: 0.0027, L0: 135.6416:  40%|███▌     | 26009600/65000000 [05:02<06:48, 95499.75it/s]"
     ]
    },
    {
     "name": "stdout",
     "output_type": "stream",
     "text": [
      "Saved model to /workspace/checkpoints/1c20c944-open-clip:laion-CLIP-ViT-B-32-DataComp.XL-s13B-b90k-expansion-16-layer-0/n_images_520028.pt\n"
     ]
    },
    {
     "name": "stderr",
     "output_type": "stream",
     "text": [
      "Training SAE: Loss: 0.0053, MSE Loss: 0.0025, L1 Loss: 0.0028, L0: 131.5215:  50%|████▌    | 32514048/65000000 [06:16<06:23, 84784.80it/s]"
     ]
    },
    {
     "name": "stdout",
     "output_type": "stream",
     "text": [
      "Saved model to /workspace/checkpoints/1c20c944-open-clip:laion-CLIP-ViT-B-32-DataComp.XL-s13B-b90k-expansion-16-layer-0/n_images_650035.pt\n"
     ]
    },
    {
     "name": "stderr",
     "output_type": "stream",
     "text": [
      "Training SAE: Loss: 0.0053, MSE Loss: 0.0024, L1 Loss: 0.0029, L0: 129.7080:  60%|█████▍   | 39022592/65000000 [07:29<06:08, 70505.07it/s]"
     ]
    },
    {
     "name": "stdout",
     "output_type": "stream",
     "text": [
      "Saved model to /workspace/checkpoints/1c20c944-open-clip:laion-CLIP-ViT-B-32-DataComp.XL-s13B-b90k-expansion-16-layer-0/n_images_780042.pt\n"
     ]
    },
    {
     "name": "stderr",
     "output_type": "stream",
     "text": [
      "Training SAE: Loss: 0.0051, MSE Loss: 0.0022, L1 Loss: 0.0028, L0: 126.2468:  70%|██████▎  | 45506560/65000000 [08:43<05:03, 64168.03it/s]"
     ]
    },
    {
     "name": "stdout",
     "output_type": "stream",
     "text": [
      "Saved model to /workspace/checkpoints/1c20c944-open-clip:laion-CLIP-ViT-B-32-DataComp.XL-s13B-b90k-expansion-16-layer-0/n_images_910049.pt\n"
     ]
    },
    {
     "name": "stderr",
     "output_type": "stream",
     "text": [
      "Training SAE: Loss: 0.0052, MSE Loss: 0.0023, L1 Loss: 0.0029, L0: 129.0459:  80%|███████▏ | 52011008/65000000 [09:57<02:28, 87250.65it/s]"
     ]
    },
    {
     "name": "stdout",
     "output_type": "stream",
     "text": [
      "Saved model to /workspace/checkpoints/1c20c944-open-clip:laion-CLIP-ViT-B-32-DataComp.XL-s13B-b90k-expansion-16-layer-0/n_images_1040056.pt\n"
     ]
    },
    {
     "name": "stderr",
     "output_type": "stream",
     "text": [
      "Training SAE: Loss: 0.0050, MSE Loss: 0.0022, L1 Loss: 0.0028, L0: 125.1758:  90%|████████ | 58503168/65000000 [11:10<01:10, 91612.75it/s]"
     ]
    },
    {
     "name": "stdout",
     "output_type": "stream",
     "text": [
      "Saved model to /workspace/checkpoints/1c20c944-open-clip:laion-CLIP-ViT-B-32-DataComp.XL-s13B-b90k-expansion-16-layer-0/n_images_1170063.pt\n"
     ]
    },
    {
     "ename": "IndexError",
     "evalue": "list index out of range",
     "output_type": "error",
     "traceback": [
      "\u001b[0;31m---------------------------------------------------------------------------\u001b[0m",
      "\u001b[0;31mIndexError\u001b[0m                                Traceback (most recent call last)",
      "Cell \u001b[0;32mIn[5], line 1\u001b[0m\n\u001b[0;32m----> 1\u001b[0m sae \u001b[38;5;241m=\u001b[39m \u001b[43mtrainer\u001b[49m\u001b[38;5;241;43m.\u001b[39;49m\u001b[43mrun\u001b[49m\u001b[43m(\u001b[49m\u001b[43m)\u001b[49m\n",
      "File \u001b[0;32m/workspace/ViT-Prisma/src/vit_prisma/sae/train_sae.py:431\u001b[0m, in \u001b[0;36mVisionSAETrainer.run\u001b[0;34m(self)\u001b[0m\n\u001b[1;32m    428\u001b[0m n_training_steps \u001b[38;5;241m+\u001b[39m\u001b[38;5;241m=\u001b[39m \u001b[38;5;241m1\u001b[39m\n\u001b[1;32m    429\u001b[0m n_training_tokens \u001b[38;5;241m+\u001b[39m\u001b[38;5;241m=\u001b[39m \u001b[38;5;28mself\u001b[39m\u001b[38;5;241m.\u001b[39mcfg\u001b[38;5;241m.\u001b[39mtrain_batch_size\n\u001b[0;32m--> 431\u001b[0m \u001b[38;5;28;01mif\u001b[39;00m \u001b[38;5;28mself\u001b[39m\u001b[38;5;241m.\u001b[39mcfg\u001b[38;5;241m.\u001b[39mn_checkpoints \u001b[38;5;241m>\u001b[39m \u001b[38;5;241m0\u001b[39m \u001b[38;5;129;01mand\u001b[39;00m n_training_tokens \u001b[38;5;241m>\u001b[39m \u001b[38;5;28;43mself\u001b[39;49m\u001b[38;5;241;43m.\u001b[39;49m\u001b[43mcheckpoint_thresholds\u001b[49m\u001b[43m[\u001b[49m\u001b[38;5;241;43m0\u001b[39;49m\u001b[43m]\u001b[49m:\n\u001b[1;32m    432\u001b[0m     \u001b[38;5;28mself\u001b[39m\u001b[38;5;241m.\u001b[39mcheckpoint(\u001b[38;5;28mself\u001b[39m\u001b[38;5;241m.\u001b[39msae, n_training_tokens, act_freq_scores, n_frac_active_tokens)\n\u001b[1;32m    433\u001b[0m     \u001b[38;5;28mprint\u001b[39m(\u001b[38;5;124mf\u001b[39m\u001b[38;5;124m\"\u001b[39m\u001b[38;5;124mCheckpoint saved at \u001b[39m\u001b[38;5;132;01m{\u001b[39;00mn_training_tokens\u001b[38;5;132;01m}\u001b[39;00m\u001b[38;5;124m tokens\u001b[39m\u001b[38;5;124m\"\u001b[39m) \u001b[38;5;28;01mif\u001b[39;00m \u001b[38;5;28mself\u001b[39m\u001b[38;5;241m.\u001b[39mcfg\u001b[38;5;241m.\u001b[39mverbose \u001b[38;5;28;01melse\u001b[39;00m \u001b[38;5;28;01mNone\u001b[39;00m\n",
      "\u001b[0;31mIndexError\u001b[0m: list index out of range"
     ]
    },
    {
     "name": "stderr",
     "output_type": "stream",
     "text": [
      "\r",
      "Training SAE: Loss: 0.0050, MSE Loss: 0.0022, L1 Loss: 0.0028, L0: 125.1758:  90%|████████ | 58503168/65000000 [11:20<01:10, 91612.75it/s]"
     ]
    }
   ],
   "source": [
    "sae = trainer.run()"
   ]
  },
  {
   "cell_type": "code",
   "execution_count": null,
   "id": "c84df1e0",
   "metadata": {},
   "outputs": [],
   "source": []
  }
 ],
 "metadata": {
  "kernelspec": {
   "display_name": "Python 3 (ipykernel)",
   "language": "python",
   "name": "python3"
  },
  "language_info": {
   "codemirror_mode": {
    "name": "ipython",
    "version": 3
   },
   "file_extension": ".py",
   "mimetype": "text/x-python",
   "name": "python",
   "nbconvert_exporter": "python",
   "pygments_lexer": "ipython3",
   "version": "3.10.12"
  }
 },
 "nbformat": 4,
 "nbformat_minor": 5
}
