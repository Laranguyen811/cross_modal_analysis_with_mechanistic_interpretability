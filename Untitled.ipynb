{
 "cells": [
  {
   "cell_type": "code",
   "execution_count": 1,
   "id": "26fe7be9",
   "metadata": {},
   "outputs": [],
   "source": [
    "from vit_prisma.sae.config import VisionModelSAERunnerConfig\n",
    "from vit_prisma.sae.train_sae import VisionSAETrainer"
   ]
  },
  {
   "cell_type": "code",
   "execution_count": 2,
   "id": "e2be3f68",
   "metadata": {
    "scrolled": true
   },
   "outputs": [
    {
     "name": "stdout",
     "output_type": "stream",
     "text": [
      "n_tokens_per_buffer (millions): 0.032\n",
      "Lower bound: n_contexts_per_buffer (millions): 0.00064\n",
      "Total training steps: 15869\n",
      "Total training images: 1300000\n",
      "Total wandb updates: 158\n",
      "Expansion factor: 16\n",
      "n_tokens_per_feature_sampling_window (millions): 204.8\n",
      "n_tokens_per_dead_feature_window (millions): 1024.0\n",
      "Using Ghost Grads.\n",
      "We will reset the sparsity calculation 15 times.\n",
      "Number tokens in sparsity calculation window: 4.10e+06\n",
      "Gradient clipping with max_norm=1.0\n",
      "Using SAE initialization method: encoder_transpose_decoder\n",
      "Config created\n",
      "Configuration:\n",
      "  model_class_name: HookedViT\n",
      "  model_name: open-clip:laion/CLIP-ViT-B-32-DataComp.XL-s13B-b90k\n",
      "  hook_point_layer: 0\n",
      "  hook_point_head_index: None\n",
      "  context_size: 50\n",
      "  use_cached_activations: False\n",
      "  cached_activations_path: activations/_network_scratch_s_sonia.joseph_datasets_kaggle_datasets/wkcn_TinyCLIP-ViT-40M-32-Text-19M-LAION400M/blocks.9.hook_mlp_out\n",
      "  d_in: 768\n",
      "  activation_fn_str: relu\n",
      "  activation_fn_kwargs: {}\n",
      "  max_grad_norm: 1.0\n",
      "  initialization_method: independent\n",
      "  normalize_activations: null\n",
      "  n_batches_in_buffer: 4\n",
      "  store_batch_size: 256\n",
      "  num_epochs: 1\n",
      "  total_training_images: 1300000\n",
      "  total_training_tokens: 65000000\n",
      "  image_size: 224\n",
      "  device: cuda\n",
      "  seed: 42\n",
      "  dtype: float32\n",
      "  verbose: False\n",
      "  b_dec_init_method: geometric_median\n",
      "  expansion_factor: 16\n",
      "  from_pretrained_path: None\n",
      "  d_sae: 1048\n",
      "  l1_coefficient: 8e-05\n",
      "  lp_norm: 1\n",
      "  lr: 0.0001\n",
      "  lr_scheduler_name: cosineannealingwarmup\n",
      "  lr_warm_up_steps: 500\n",
      "  train_batch_size: 4096\n",
      "  dataset_name: imagenet1k\n",
      "  dataset_path: /workspace/\n",
      "  dataset_train_path: /workspace/ILSVRC/Data/CLS-LOC/train\n",
      "  dataset_val_path: /workspace/ILSVRC/Data/CLS-LOC/val\n",
      "  use_ghost_grads: True\n",
      "  feature_sampling_window: 1000\n",
      "  dead_feature_window: 5000\n",
      "  dead_feature_threshold: 1e-08\n",
      "  log_to_wandb: True\n",
      "  wandb_project: open_clip_vit_b_32_layer_0_None\n",
      "  wandb_entity: None\n",
      "  wandb_log_frequency: 100\n",
      "  n_checkpoints: 10\n",
      "  checkpoint_path: /workspace/checkpoints\n"
     ]
    }
   ],
   "source": [
    "cfg = VisionModelSAERunnerConfig()\n",
    "print(\"Config created\")\n",
    "\n",
    "# need to adjust learning rate and L1\n",
    "# lr = 0.0001\n",
    "# l1_coefficient = 0.00008\n",
    "cfg.lr = 0.0001\n",
    "cfg.l1_coefficient = 0.00008\n",
    "\n",
    "\n",
    "# to pick hook point, use cfg.hook_point_head_index\n",
    "cfg.hook_point_layer = 0\n",
    "cfg.hook_point = \"blocks.0.hook_mlp_out\"\n",
    "\n",
    "# You can modify the config hyperparameters however you wish, for example:\n",
    "cfg.expansion_factor = 16\n",
    "cfg.d_sae = 1048\n",
    "cfg.initialization_method = \"independent\"\n",
    "cfg.normalize_activations = \"null\"\n",
    "\n",
    "cfg.device = \"cuda\"\n",
    "cfg.model_name = \"open-clip:laion/CLIP-ViT-B-32-DataComp.XL-s13B-b90k\"\n",
    "cfg.dataset_path = \"/workspace/\"\n",
    "cfg.dataset_train_path = \"/workspace/ILSVRC/Data/CLS-LOC/train\"\n",
    "cfg.dataset_val_path = \"/workspace/ILSVRC/Data/CLS-LOC/val\"\n",
    "cfg.checkpoint_path =\"/workspace/checkpoints\"\n",
    "cfg.wandb_project = f\"open_clip_vit_b_32_layer_{cfg.hook_point_layer}_{cfg.hook_point_head_index}\"\n",
    "\n",
    "cfg.train_batch_size = 4096 # tweak store_batch_size instead\n",
    "cfg.n_batches_in_buffer = 4\n",
    "cfg.store_batch_size = 256 #cfg.train_batch_size\n",
    "cfg.d_in = 768\n",
    "cfg.pretty_print()"
   ]
  },
  {
   "cell_type": "code",
   "execution_count": 3,
   "id": "b901ee97",
   "metadata": {},
   "outputs": [
    {
     "name": "stdout",
     "output_type": "stream",
     "text": [
      "model_id download_pretrained_from_hf: laion/CLIP-ViT-B-32-DataComp.XL-s13B-b90k\n",
      "Official model name open-clip:laion/CLIP-ViT-B-32-DataComp.XL-s13B-b90k\n",
      "Converting OpenCLIP weights\n",
      "model_id download_pretrained_from_hf: laion/CLIP-ViT-B-32-DataComp.XL-s13B-b90k\n",
      "visual projection shape torch.Size([768, 512])\n",
      "Setting center_writing_weights to False for OpenCLIP\n",
      "Setting fold_ln to False for OpenCLIP\n",
      "Loaded pretrained model open-clip:laion/CLIP-ViT-B-32-DataComp.XL-s13B-b90k into HookedTransformer\n",
      "get_activation_fn received: activation_fn=relu, kwargs={}\n",
      "here <vit_prisma.dataloaders.imagenet_dataset.ImageNetValidationDataset object at 0x7c06dfcf0490>\n",
      "loaded dataloaders\n"
     ]
    }
   ],
   "source": [
    "trainer = VisionSAETrainer(cfg)"
   ]
  },
  {
   "cell_type": "code",
   "execution_count": 4,
   "id": "f6255f6b",
   "metadata": {},
   "outputs": [
    {
     "name": "stdout",
     "output_type": "stream",
     "text": [
      "open-clip:laion-CLIP-ViT-B-32-DataComp.XL-s13B-b90k-expansion-16-layer-0\n",
      "607d9793-open-clip:laion-CLIP-ViT-B-32-DataComp.XL-s13B-b90k-expansion-16-layer-0\n",
      "blocks.0.hook_mlp_out\n",
      "<class 'str'>\n"
     ]
    }
   ],
   "source": [
    "print(cfg.wandb_project)\n",
    "print(cfg.run_name)\n",
    "print(cfg.hook_point)\n",
    "print(type(cfg.hook_point))"
   ]
  },
  {
   "cell_type": "code",
   "execution_count": null,
   "id": "5809eb72",
   "metadata": {},
   "outputs": [
    {
     "name": "stderr",
     "output_type": "stream",
     "text": [
      "\u001b[34m\u001b[1mwandb\u001b[0m: Using wandb-core as the SDK backend. Please refer to https://wandb.me/wandb-core for more information.\n",
      "\u001b[34m\u001b[1mwandb\u001b[0m: Currently logged in as: \u001b[33mekg15\u001b[0m (\u001b[33mekg15_\u001b[0m). Use \u001b[1m`wandb login --relogin`\u001b[0m to force relogin\n"
     ]
    },
    {
     "data": {
      "text/html": [
       "Tracking run with wandb version 0.18.3"
      ],
      "text/plain": [
       "<IPython.core.display.HTML object>"
      ]
     },
     "metadata": {},
     "output_type": "display_data"
    },
    {
     "data": {
      "text/html": [
       "Run data is saved locally in <code>/workspace/ViT-Prisma/wandb/run-20241019_224429-j38ftpxe</code>"
      ],
      "text/plain": [
       "<IPython.core.display.HTML object>"
      ]
     },
     "metadata": {},
     "output_type": "display_data"
    },
    {
     "data": {
      "text/html": [
       "Syncing run <strong><a href='https://wandb.ai/ekg15_/open-clip_laion-CLIP-ViT-B-32-DataComp.XL-s13B-b90k-expansion-16-layer-0/runs/j38ftpxe' target=\"_blank\">607d9793-open-clip_laion-CLIP-ViT-B-32-DataComp.XL-s13B-b90k-expansion-16-layer-0</a></strong> to <a href='https://wandb.ai/ekg15_/open-clip_laion-CLIP-ViT-B-32-DataComp.XL-s13B-b90k-expansion-16-layer-0' target=\"_blank\">Weights & Biases</a> (<a href='https://wandb.me/run' target=\"_blank\">docs</a>)<br/>"
      ],
      "text/plain": [
       "<IPython.core.display.HTML object>"
      ]
     },
     "metadata": {},
     "output_type": "display_data"
    },
    {
     "data": {
      "text/html": [
       " View project at <a href='https://wandb.ai/ekg15_/open-clip_laion-CLIP-ViT-B-32-DataComp.XL-s13B-b90k-expansion-16-layer-0' target=\"_blank\">https://wandb.ai/ekg15_/open-clip_laion-CLIP-ViT-B-32-DataComp.XL-s13B-b90k-expansion-16-layer-0</a>"
      ],
      "text/plain": [
       "<IPython.core.display.HTML object>"
      ]
     },
     "metadata": {},
     "output_type": "display_data"
    },
    {
     "data": {
      "text/html": [
       " View run at <a href='https://wandb.ai/ekg15_/open-clip_laion-CLIP-ViT-B-32-DataComp.XL-s13B-b90k-expansion-16-layer-0/runs/j38ftpxe' target=\"_blank\">https://wandb.ai/ekg15_/open-clip_laion-CLIP-ViT-B-32-DataComp.XL-s13B-b90k-expansion-16-layer-0/runs/j38ftpxe</a>"
      ],
      "text/plain": [
       "<IPython.core.display.HTML object>"
      ]
     },
     "metadata": {},
     "output_type": "display_data"
    },
    {
     "name": "stderr",
     "output_type": "stream",
     "text": [
      "Objective value: 94861.9531:   1%|██                                                                                                                                                                                                                  | 2/200 [00:00<00:09, 21.46it/s]\n",
      "/workspace/ViT-Prisma/src/vit_prisma/sae/sae.py:253: UserWarning:\n",
      "\n",
      "To copy construct from a tensor, it is recommended to use sourceTensor.clone().detach() or sourceTensor.clone().detach().requires_grad_(True), rather than torch.tensor(sourceTensor).\n",
      "\n",
      "Training SAE:   0%|                                                                                                                                                                                                                                      | 0/65000000 [00:00<?, ?it/s]/usr/local/lib/python3.10/dist-packages/torch/optim/lr_scheduler.py:136: UserWarning:\n",
      "\n",
      "Detected call of `lr_scheduler.step()` before `optimizer.step()`. In PyTorch 1.1.0 and later, you should call them in the opposite order: `optimizer.step()` before `lr_scheduler.step()`.  Failure to do this will result in PyTorch skipping the first value of the learning rate schedule. See more details at https://pytorch.org/docs/stable/optim.html#how-to-adjust-learning-rate\n",
      "\n"
     ]
    },
    {
     "name": "stdout",
     "output_type": "stream",
     "text": [
      "model_name: laion/CLIP-ViT-B-32-DataComp.XL-s13B-b90k\n",
      "top_k_values: tensor([[0.0012, 0.0011, 0.0011, 0.0011, 0.0011],\n",
      "        [0.0011, 0.0011, 0.0011, 0.0011, 0.0011],\n",
      "        [0.0012, 0.0011, 0.0011, 0.0011, 0.0011],\n",
      "        ...,\n",
      "        [0.0012, 0.0011, 0.0011, 0.0011, 0.0011],\n",
      "        [0.0013, 0.0012, 0.0012, 0.0011, 0.0011],\n",
      "        [0.0011, 0.0011, 0.0011, 0.0011, 0.0011]], device='cuda:0')\n",
      "cos_sim: 0.22014403343200684\n"
     ]
    },
    {
     "name": "stderr",
     "output_type": "stream",
     "text": [
      "Training SAE: Loss: 0.0111, MSE Loss: 0.0073, L1 Loss: 0.0038, L0: 524.0217:   0%|                                                                                                                                                        | 4096/65000000 [01:49<435:38:50, 41.44it/s]"
     ]
    }
   ],
   "source": [
    "sae = trainer.run()"
   ]
  },
  {
   "cell_type": "code",
   "execution_count": null,
   "id": "c84df1e0",
   "metadata": {},
   "outputs": [],
   "source": []
  }
 ],
 "metadata": {
  "kernelspec": {
   "display_name": "Python 3 (ipykernel)",
   "language": "python",
   "name": "python3"
  },
  "language_info": {
   "codemirror_mode": {
    "name": "ipython",
    "version": 3
   },
   "file_extension": ".py",
   "mimetype": "text/x-python",
   "name": "python",
   "nbconvert_exporter": "python",
   "pygments_lexer": "ipython3",
   "version": "3.10.12"
  }
 },
 "nbformat": 4,
 "nbformat_minor": 5
}
